{
 "cells": [
  {
   "cell_type": "raw",
   "id": "1c2785b1",
   "metadata": {},
   "source": [
    "---\n",
    "title: \"Creating posts\"\n",
    "author: \"Seyoon\"\n",
    "date: \"2023-12-23\"\n",
    "categories: [week 0, example]\n",
    "---"
   ]
  },
  {
   "cell_type": "markdown",
   "id": "d8b162a2",
   "metadata": {},
   "source": [
    "3+2"
   ]
  }
 ],
 "metadata": {
  "kernelspec": {
   "display_name": "Python 3 (ipykernel)",
   "language": "python",
   "name": "python3"
  },
  "language_info": {
   "codemirror_mode": {
    "name": "ipython",
    "version": 3
   },
   "file_extension": ".py",
   "mimetype": "text/x-python",
   "name": "python",
   "nbconvert_exporter": "python",
   "pygments_lexer": "ipython3",
   "version": "3.9.7"
  }
 },
 "nbformat": 4,
 "nbformat_minor": 5
}
